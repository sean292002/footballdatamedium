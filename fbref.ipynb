{
 "cells": [
  {
   "cell_type": "code",
   "execution_count": 26,
   "id": "078e9ef9",
   "metadata": {},
   "outputs": [],
   "source": [
    "import pandas as pd\n",
    "from bs4 import BeautifulSoup\n",
    "import requests\n",
    "import re\n",
    "import random"
   ]
  },
  {
   "cell_type": "code",
   "execution_count": 56,
   "id": "8f00b09c",
   "metadata": {},
   "outputs": [],
   "source": [
    "def nonblank_lines(filename):\n",
    "    with open(filename) as f:\n",
    "        stripped_lines = [line.strip() for line in f]\n",
    "        return [line for line in stripped_lines if line]\n",
    "    \n",
    "def load_proxies_from_file(filename, shuffle=True):\n",
    "    proxies = nonblank_lines(filename)\n",
    "\n",
    "    if len(proxies) >0 :\n",
    "        proxy = random.choice(proxies)\n",
    "        if proxy:\n",
    "            (IPv4, Port, username, password) = proxy.split(':')\n",
    "            ip = IPv4 + ':' + Port\n",
    "            new_proxies = {\n",
    "                \"http\": \"http://\" + username + \":\" + password + \"@\" + ip,\n",
    "                \"https\": \"http://\" + username + \":\" + password + \"@\" + ip,\n",
    "            }\n",
    "        else:\n",
    "            new_proxies = proxy\n",
    "    else:\n",
    "        proxy = \"Local Host\"\n",
    "        new_proxies = None\n",
    "    return new_proxies,proxy\n",
    "\n",
    "proxy_file = 'proxies.txt'\n",
    "new_proxies,proxy = load_proxies_from_file(proxy_file, shuffle=True)"
   ]
  },
  {
   "cell_type": "code",
   "execution_count": 28,
   "id": "f89dd753",
   "metadata": {},
   "outputs": [],
   "source": [
    "session = requests.session()\n",
    "comp = \"c9\"\n",
    "url = \"https://fbref.com/en/squads/822bd0ba/Liverpool-Stats\"\n",
    "headers = {\n",
    "    \"User-Agent\":\"Mozilla/5.0 (Macintosh; Intel Mac OS X 10.15; rv:104.0) Gecko/20100101 Firefox/104.0\",\n",
    "    \"Accept\":\"text/html,application/xhtml+xml,application/xml;q=0.9,image/avif,image/webp,*/*;q=0.8\"\n",
    "}\n",
    "response = session.get(url,headers=headers,proxies=new_proxies)\n",
    "soup = BeautifulSoup(response.text, \"html.parser\")\n",
    "squad_list_table = soup.find('table', {'class': 'stats_table sortable min_width'})\n",
    "player_links = squad_list_table.find_all('a', href=True)\n",
    "squad_player_links = [link.get('href') for link in player_links if link.get('href').count('/') == 4 and link.get('href').startswith(\"/en/players/\")]\n",
    "formatted_urls = [\n",
    "    f\"https://fbref.com/en/players/{link.split('/')[3]}/matchlogs/2023-2024/{comp}/{'-'.join(link.split('/')[-1].split('-')[:-1])}-Match-Logs\"\n",
    "    for link in squad_player_links\n",
    "]"
   ]
  },
  {
   "cell_type": "code",
   "execution_count": 35,
   "id": "27038e38",
   "metadata": {},
   "outputs": [],
   "source": [
    "url_player = 'https://fbref.com/en/players/934e1968/matchlogs/2023-2024/c9/Dominik-Szoboszlai-Match-Logs' #Any Random outfield player to set the headers\n",
    "headers = {\n",
    "    \"User-Agent\":\"Mozilla/5.0 (Macintosh; Intel Mac OS X 10.15; rv:104.0) Gecko/20100101 Firefox/104.0\",\n",
    "    'Accept':'text/html,application/xhtml+xml,application/xml;q=0.9,image/avif,image/webp,*/*;q=0.8'\n",
    "}\n",
    "response_player = session.get(url_player, headers=headers,proxies=new_proxies)\n",
    "soup_player = BeautifulSoup(response_player.text, \"html.parser\")\n",
    "date_header_player = soup_player.find(\"th\", text=\"Date\")\n",
    "header_row_player = date_header_player.find_parent(\"tr\")\n",
    "headers_player = [th.get_text(strip=True) for th in header_row_player.find_all(\"th\")]\n",
    "headers_player.insert(0, \"Player Name\")"
   ]
  },
  {
   "cell_type": "code",
   "execution_count": 38,
   "id": "eb77ed21",
   "metadata": {},
   "outputs": [
    {
     "name": "stdout",
     "output_type": "stream",
     "text": [
      "['Player Name', 'Date', 'Day', 'Round', 'Venue', 'Result', 'Squad', 'Opponent', 'Start', 'Pos', 'Min', 'SoTA', 'GA', 'Saves', 'Save%', 'CS', 'PSxG', 'PKatt', 'PKA', 'PKsv', 'PKm', 'Cmp', 'Att', 'Cmp%', 'Att', 'Thr', 'Launch%', 'AvgLen', 'Att', 'Launch%', 'AvgLen', 'Opp', 'Stp', 'Stp%', '#OPA', 'AvgDist', 'Match Report']\n"
     ]
    }
   ],
   "source": [
    "url_keeper = 'https://fbref.com/en/players/7a2e46a8/matchlogs/2023-2024/c9/Alisson-Match-Logs' #Any Random Goalkeeper to set the headers\n",
    "headers = {\n",
    "    \"User-Agent\":\"Mozilla/5.0 (Macintosh; Intel Mac OS X 10.15; rv:104.0) Gecko/20100101 Firefox/104.0\",\n",
    "    \"Accept\":\"text/html,application/xhtml+xml,application/xml;q=0.9,image/avif,image/webp,*/*;q=0.8\"\n",
    "}\n",
    "response_keeper = session.get(url_keeper, headers=headers,proxies=new_proxies)\n",
    "soup_keeper = BeautifulSoup(response_keeper.text, \"html.parser\")\n",
    "date_header_keeper = soup_keeper.find(\"th\", text=\"Date\")\n",
    "header_row_keeper = date_header_keeper.find_parent(\"tr\")\n",
    "headers_keeper = [th.get_text(strip=True) for th in header_row_keeper.find_all(\"th\")]\n",
    "headers_keeper.insert(0, \"Player Name\")"
   ]
  },
  {
   "cell_type": "code",
   "execution_count": 58,
   "id": "6f339de6",
   "metadata": {},
   "outputs": [
    {
     "name": "stdout",
     "output_type": "stream",
     "text": [
      "Number of headers: 37\n",
      "Number of headers: 37\n"
     ]
    }
   ],
   "source": [
    "player_data = []\n",
    "keeper_data= []\n",
    "for url in formatted_urls:\n",
    "    headers = {\n",
    "        \"User-Agent\":\"Mozilla/5.0 (Macintosh; Intel Mac OS X 10.15; rv:104.0) Gecko/20100101 Firefox/104.0\",\n",
    "        \"Accept\":\"text/html,application/xhtml+xml,application/xml;q=0.9,image/avif,image/webp,*/*;q=0.8\"\n",
    "    }\n",
    "    response_data = session.get(url, headers=headers,proxies=new_proxies)\n",
    "    soup_data = BeautifulSoup(response_data.text, \"html.parser\")\n",
    "    title_data = soup_data.title.string\n",
    "    pattern = r\"2023-2024 (Premier League|Serie A|La Liga|Ligue 1|Bundesliga) Match Logs( \\(Goalkeeping\\))? \\| FBref\\.com\"\n",
    "    player_name = re.sub(pattern, \"\", title_data).strip()\n",
    "    date_header = soup_data.find(\"th\", text=\"Date\") \n",
    "    if date_header == None: #Sometimes the player dont have date, nvr played before.\n",
    "        continue\n",
    "    header_rows = date_header.find_parent(\"tr\")\n",
    "    data_rows = header_rows.find_all_next(\"tr\")\n",
    "    for row in data_rows[0:-1]: #We do -1 here is because to elimintate the total statistics\n",
    "        if (row.get('class')) == None: #Remove space & Matches not played\n",
    "            cells = row.find_all(['th', 'td'])\n",
    "            row_data = [cell.get_text(strip=True) for cell in cells]\n",
    "            if \"Goalkeeping\" in title_data: #If it is a goalkeeper\n",
    "                row_data.insert(0,player_name)\n",
    "                keeper_data.append(row_data)\n",
    "            else: #If not goalkeeper\n",
    "                row_data.insert(0,player_name)\n",
    "                player_data.append(row_data)\n",
    "df_player = pd.DataFrame(player_data,columns=headers_player)\n",
    "df_keeper = pd.DataFrame(keeper_data,columns=headers_keeper)\n",
    "df_player.to_csv(\"Liverpoolplayer.csv\", sep=';', encoding='utf-8', index=False)\n",
    "df_keeper.to_csv(\"Liverpoolkeeper.csv\", sep=';', encoding='utf-8', index=False)"
   ]
  }
 ],
 "metadata": {
  "kernelspec": {
   "display_name": "Python 3 (ipykernel)",
   "language": "python",
   "name": "python3"
  },
  "language_info": {
   "codemirror_mode": {
    "name": "ipython",
    "version": 3
   },
   "file_extension": ".py",
   "mimetype": "text/x-python",
   "name": "python",
   "nbconvert_exporter": "python",
   "pygments_lexer": "ipython3",
   "version": "3.9.13"
  }
 },
 "nbformat": 4,
 "nbformat_minor": 5
}
